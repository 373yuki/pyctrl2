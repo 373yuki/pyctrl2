{
 "cells": [
  {
   "cell_type": "markdown",
   "metadata": {},
   "source": [
    "# Chapter 3"
   ]
  },
  {
   "cell_type": "markdown",
   "metadata": {},
   "source": [
    "## 状態空間モデルの記述"
   ]
  },
  {
   "cell_type": "code",
   "execution_count": 1,
   "metadata": {
    "tags": []
   },
   "outputs": [],
   "source": [
    "from control.matlab import ss, ssdata\n"
   ]
  },
  {
   "cell_type": "markdown",
   "metadata": {},
   "source": [
    "状態空間モデルの記述は，ssを用います\n",
    "\n",
    "行列A, B, C, Dは，array_like data (リスト）か string（文字列）で記述します"
   ]
  },
  {
   "cell_type": "code",
   "execution_count": 2,
   "metadata": {
    "tags": []
   },
   "outputs": [
    {
     "name": "stdout",
     "output_type": "stream",
     "text": [
      "<LinearIOSystem>: sys[2]\n",
      "Inputs (1): ['u[0]']\n",
      "Outputs (1): ['y[0]']\n",
      "States (2): ['x[0]', 'x[1]']\n",
      "\n",
      "A = [[ 0.  1.]\n",
      "     [-1. -1.]]\n",
      "\n",
      "B = [[0.]\n",
      "     [1.]]\n",
      "\n",
      "C = [[1. 0.]]\n",
      "\n",
      "D = [[0.]]\n",
      "\n"
     ]
    }
   ],
   "source": [
    "# array_like data\n",
    "A = [ [0, 1], [-1, -1] ]\n",
    "B = [ [0], [1] ]\n",
    "C = [ 1, 0 ]\n",
    "D = [ 0 ]\n",
    "P = ss(A, B, C, D)\n",
    "print(P)\n"
   ]
  },
  {
   "cell_type": "code",
   "execution_count": 3,
   "metadata": {
    "tags": []
   },
   "outputs": [],
   "source": [
    "# string (ver.0.10.0から非対応)\n",
    "# A = '0 1; -1 -1'\n",
    "# B = '0; 1'\n",
    "# C = '1 0'\n",
    "# D = '0'\n",
    "# P = ss(A, B, C, D)\n",
    "# print(P)"
   ]
  },
  {
   "cell_type": "markdown",
   "metadata": {},
   "source": [
    "### 練習問題"
   ]
  },
  {
   "cell_type": "code",
   "execution_count": 4,
   "metadata": {
    "tags": []
   },
   "outputs": [
    {
     "name": "stdout",
     "output_type": "stream",
     "text": [
      "<LinearIOSystem>: sys[3]\n",
      "Inputs (1): ['u[0]']\n",
      "Outputs (1): ['y[0]']\n",
      "States (3): ['x[0]', 'x[1]', 'x[2]']\n",
      "\n",
      "A = [[1. 1. 2.]\n",
      "     [2. 1. 1.]\n",
      "     [3. 4. 5.]]\n",
      "\n",
      "B = [[2.]\n",
      "     [0.]\n",
      "     [1.]]\n",
      "\n",
      "C = [[1. 1. 0.]]\n",
      "\n",
      "D = [[0.]]\n",
      "\n"
     ]
    }
   ],
   "source": [
    "# A = '1 1 2; 2 1 1; 3 4 5'\n",
    "# B = '2; 0; 1'\n",
    "# C = '1 1 0'\n",
    "# D = '0'\n",
    "\n",
    "A = [[1, 1, 2], [2, 1, 1], [3, 4, 5]]\n",
    "B = [[2], [0], [1]]\n",
    "C = [1, 1, 0]\n",
    "D = [0]\n",
    "P = ss(A, B, C, D)\n",
    "print(P)"
   ]
  },
  {
   "cell_type": "markdown",
   "metadata": {},
   "source": [
    "### A,B,C,D行列の抽出"
   ]
  },
  {
   "cell_type": "code",
   "execution_count": 5,
   "metadata": {
    "tags": []
   },
   "outputs": [
    {
     "name": "stdout",
     "output_type": "stream",
     "text": [
      "A= [[1. 1. 2.]\n",
      " [2. 1. 1.]\n",
      " [3. 4. 5.]]\n",
      "B= [[2.]\n",
      " [0.]\n",
      " [1.]]\n",
      "C= [[1. 1. 0.]]\n",
      "D= [[0.]]\n"
     ]
    }
   ],
   "source": [
    "print('A=', P.A)\n",
    "print('B=', P.B)\n",
    "print('C=', P.C)\n",
    "print('D=', P.D)\n"
   ]
  },
  {
   "cell_type": "code",
   "execution_count": 6,
   "metadata": {
    "tags": []
   },
   "outputs": [
    {
     "name": "stdout",
     "output_type": "stream",
     "text": [
      "A= [[1. 1. 2.]\n",
      " [2. 1. 1.]\n",
      " [3. 4. 5.]]\n",
      "B= [[2.]\n",
      " [0.]\n",
      " [1.]]\n",
      "C= [[1. 1. 0.]]\n",
      "D= [[0.]]\n"
     ]
    }
   ],
   "source": [
    "sysA, sysB, sysC, sysD = ssdata(P)\n",
    "print('A=', sysA)\n",
    "print('B=', sysB)\n",
    "print('C=', sysC)\n",
    "print('D=', sysD)\n"
   ]
  },
  {
   "cell_type": "markdown",
   "metadata": {},
   "source": [
    "## 伝達関数モデルの記述"
   ]
  },
  {
   "cell_type": "code",
   "execution_count": 7,
   "metadata": {},
   "outputs": [],
   "source": [
    "from control.matlab import tf, tfdata\n"
   ]
  },
  {
   "cell_type": "markdown",
   "metadata": {},
   "source": [
    "伝達関数モデルの記述は，tfを用います"
   ]
  },
  {
   "cell_type": "code",
   "execution_count": 8,
   "metadata": {},
   "outputs": [
    {
     "name": "stdout",
     "output_type": "stream",
     "text": [
      "P(s)= \n",
      "      1\n",
      "-------------\n",
      "s^2 + 2 s + 3\n",
      "\n"
     ]
    }
   ],
   "source": [
    "Np = [0, 1]      # 伝達関数の分子多項式(0*s + 1)の係数\n",
    "Dp = [1, 2, 3]   # 伝達関数の分母多項式(1*s^2 + 2*s + 3)の係数\n",
    "P = tf(Np, Dp)\n",
    "print('P(s)=', P)\n"
   ]
  },
  {
   "cell_type": "code",
   "execution_count": 9,
   "metadata": {},
   "outputs": [
    {
     "name": "stdout",
     "output_type": "stream",
     "text": [
      "P(s)= \n",
      "      1\n",
      "-------------\n",
      "s^2 + 2 s + 3\n",
      "\n"
     ]
    }
   ],
   "source": [
    "P = tf([0, 1], [1, 2, 3])\n",
    "print('P(s)=', P)\n"
   ]
  },
  {
   "cell_type": "markdown",
   "metadata": {},
   "source": [
    "ラプラス演算子を定義して記述することもできます"
   ]
  },
  {
   "cell_type": "code",
   "execution_count": 10,
   "metadata": {},
   "outputs": [
    {
     "name": "stdout",
     "output_type": "stream",
     "text": [
      "P(s)= \n",
      "      1\n",
      "-------------\n",
      "s^2 + 2 s + 3\n",
      "\n"
     ]
    }
   ],
   "source": [
    "s = tf('s')\n",
    "P = 1/(s**2 + 2*s + 3)\n",
    "print('P(s)=', P)\n"
   ]
  },
  {
   "cell_type": "markdown",
   "metadata": {},
   "source": [
    "### 練習問題"
   ]
  },
  {
   "cell_type": "code",
   "execution_count": 11,
   "metadata": {},
   "outputs": [
    {
     "data": {
      "text/latex": [
       "$$\\frac{s + 2}{s^3 + 5 s^2 + 3 s + 4}$$"
      ],
      "text/plain": [
       "TransferFunction(array([1, 2]), array([1, 5, 3, 4]))"
      ]
     },
     "execution_count": 11,
     "metadata": {},
     "output_type": "execute_result"
    }
   ],
   "source": [
    "P = tf([1, 2], [1, 5, 3, 4])\n",
    "P\n"
   ]
  },
  {
   "cell_type": "markdown",
   "metadata": {},
   "source": [
    "分母多項式の展開"
   ]
  },
  {
   "cell_type": "code",
   "execution_count": 12,
   "metadata": {},
   "outputs": [
    {
     "data": {
      "image/png": "[encoded data removed]",
      "text/latex": [
       "$\\displaystyle s^{3} + 5 s^{2} + 8 s + 4$"
      ],
      "text/plain": [
       " 3      2          \n",
       "s  + 5⋅s  + 8⋅s + 4"
      ]
     },
     "execution_count": 12,
     "metadata": {},
     "output_type": "execute_result"
    }
   ],
   "source": [
    "import sympy as sp\n",
    "sp.init_printing()\n",
    "\n",
    "s = sp.Symbol('s')\n",
    "sp.expand( (s+1)*(s+2)**2, s)\n"
   ]
  },
  {
   "cell_type": "code",
   "execution_count": 13,
   "metadata": {},
   "outputs": [
    {
     "data": {
      "text/latex": [
       "$$\\frac{s + 3}{s^3 + 5 s^2 + 8 s + 4}$$"
      ],
      "text/plain": [
       "TransferFunction(array([1, 3]), array([1, 5, 8, 4]))"
      ]
     },
     "execution_count": 13,
     "metadata": {},
     "output_type": "execute_result"
    }
   ],
   "source": [
    "P = tf([1, 3],[1, 5, 8, 4])\n",
    "P\n"
   ]
  },
  {
   "cell_type": "code",
   "execution_count": 14,
   "metadata": {},
   "outputs": [
    {
     "data": {
      "text/latex": [
       "$$\\frac{s + 3}{s^3 + 5 s^2 + 8 s + 4}$$"
      ],
      "text/plain": [
       "TransferFunction(array([1, 3]), array([1, 5, 8, 4]))"
      ]
     },
     "execution_count": 14,
     "metadata": {},
     "output_type": "execute_result"
    }
   ],
   "source": [
    "P1 = tf([1, 3], [0, 1]) # (s+3)/1\n",
    "P2 = tf([0, 1], [1, 1]) # 1/(s+1)\n",
    "P3 = tf([0, 1], [1, 2]) # 1/(s+2)\n",
    "P = P1 * P2 * P3**2\n",
    "P\n"
   ]
  },
  {
   "cell_type": "code",
   "execution_count": 15,
   "metadata": {},
   "outputs": [
    {
     "data": {
      "text/latex": [
       "$$\\frac{s + 3}{s^3 + 5 s^2 + 8 s + 4}$$"
      ],
      "text/plain": [
       "TransferFunction(array([1, 3]), array([1, 5, 8, 4]))"
      ]
     },
     "execution_count": 15,
     "metadata": {},
     "output_type": "execute_result"
    }
   ],
   "source": [
    "s = tf('s')\n",
    "P = (s+3)/((s+1)*(s+2)**2)\n",
    "P\n"
   ]
  },
  {
   "cell_type": "markdown",
   "metadata": {},
   "source": [
    "### 分母・分子多項式の係数の抽出"
   ]
  },
  {
   "cell_type": "code",
   "execution_count": 16,
   "metadata": {},
   "outputs": [
    {
     "name": "stdout",
     "output_type": "stream",
     "text": [
      "[[array([1, 3])]]\n",
      "[[array([1, 5, 8, 4])]]\n"
     ]
    }
   ],
   "source": [
    "print(P.num)\n",
    "print(P.den)\n"
   ]
  },
  {
   "cell_type": "code",
   "execution_count": 17,
   "metadata": {},
   "outputs": [
    {
     "name": "stdout",
     "output_type": "stream",
     "text": [
      "[1 3]\n",
      "[1 5 8 4]\n"
     ]
    }
   ],
   "source": [
    "[[numP]], [[denP]] = tfdata(P)\n",
    "print(numP)\n",
    "print(denP)\n"
   ]
  },
  {
   "cell_type": "markdown",
   "metadata": {},
   "source": [
    "## モデルの変換"
   ]
  },
  {
   "cell_type": "code",
   "execution_count": 18,
   "metadata": {},
   "outputs": [
    {
     "name": "stdout",
     "output_type": "stream",
     "text": [
      "A = [[-1. -1.]\n",
      "     [ 1.  0.]]\n",
      "\n",
      "B = [[-1.]\n",
      "     [ 0.]]\n",
      "\n",
      "C = [[ 0. -1.]]\n",
      "\n",
      "D = [[0.]]\n",
      "\n",
      "\n",
      "     1\n",
      "-----------\n",
      "s^2 + s + 1\n",
      "\n"
     ]
    }
   ],
   "source": [
    "from control.matlab import tf, tf2ss, ss2tf\n",
    "\n",
    "P = tf( [0, 1], [1, 1, 1])\n",
    "\n",
    "Pss = tf2ss(P) # 伝達関数モデルから状態空間モデルへの変換\n",
    "print(Pss)\n",
    "Ptf = ss2tf(Pss) # 状態空間モデルから伝達関数モデルへの変換\n",
    "print(Ptf)\n"
   ]
  },
  {
   "cell_type": "markdown",
   "metadata": {},
   "source": [
    "### 可制御正準形"
   ]
  },
  {
   "cell_type": "markdown",
   "metadata": {},
   "source": [
    "正準形への変換は，controlのcanonikcal_formを使います（control.matlabには関数がありません）"
   ]
  },
  {
   "cell_type": "code",
   "execution_count": 19,
   "metadata": {},
   "outputs": [
    {
     "name": "stdout",
     "output_type": "stream",
     "text": [
      "A = [[ 3. 21. 24.]\n",
      "     [ 1.  0.  0.]\n",
      "     [ 0.  1.  0.]]\n",
      "\n",
      "B = [[1.]\n",
      "     [0.]\n",
      "     [0.]]\n",
      "\n",
      "C = [[ 1.  9. 27.]]\n",
      "\n",
      "D = [[0.]]\n",
      "\n"
     ]
    }
   ],
   "source": [
    "from control import ss, canonical_form\n",
    "\n",
    "# A = '1 2 3; 3 2 1; 4 5 0'\n",
    "# B = '1; 0; 1'\n",
    "# C = '0 2 1'\n",
    "# D = '0'\n",
    "\n",
    "A = [[1, 2, 3], [3, 2, 1], [4, 5, 0]]\n",
    "B = [[1], [0], [1]]\n",
    "C = [0, 2, 1]\n",
    "D = [0]\n",
    "Pss = ss(A, B, C, D)\n",
    "\n",
    "Pr, T = canonical_form(Pss, form='reachable')\n",
    "print(Pr)"
   ]
  },
  {
   "cell_type": "markdown",
   "metadata": {},
   "source": [
    "等価変換の行列は T です"
   ]
  },
  {
   "cell_type": "code",
   "execution_count": 20,
   "metadata": {},
   "outputs": [
    {
     "name": "stdout",
     "output_type": "stream",
     "text": [
      "[[-5.55111512e-16 -2.50000000e-01  1.00000000e+00]\n",
      " [ 2.50000000e-01  2.50000000e-01 -2.50000000e-01]\n",
      " [-8.33333333e-02 -0.00000000e+00  8.33333333e-02]]\n"
     ]
    }
   ],
   "source": [
    "print(T)\n"
   ]
  },
  {
   "cell_type": "markdown",
   "metadata": {},
   "source": [
    "### 可観測正準形"
   ]
  },
  {
   "cell_type": "code",
   "execution_count": 21,
   "metadata": {},
   "outputs": [
    {
     "name": "stdout",
     "output_type": "stream",
     "text": [
      "A = [[ 3.  1.  0.]\n",
      "     [21.  0.  1.]\n",
      "     [24.  0.  0.]]\n",
      "\n",
      "B = [[ 1.]\n",
      "     [ 9.]\n",
      "     [27.]]\n",
      "\n",
      "C = [[1. 0. 0.]]\n",
      "\n",
      "D = [[0.]]\n",
      "\n",
      "[[ 1.18423789e-16  2.00000000e+00  1.00000000e+00]\n",
      " [ 1.00000000e+01  3.00000000e+00 -1.00000000e+00]\n",
      " [ 1.50000000e+01 -2.10000000e+01  1.20000000e+01]]\n"
     ]
    }
   ],
   "source": [
    "Pr, T = canonical_form(Pss, form='observable')\n",
    "print(Pr)\n",
    "print(T)\n"
   ]
  },
  {
   "cell_type": "markdown",
   "metadata": {},
   "source": [
    "## ブロック線図の結合"
   ]
  },
  {
   "cell_type": "code",
   "execution_count": 22,
   "metadata": {
    "tags": []
   },
   "outputs": [],
   "source": [
    "from control.matlab import tf, ss, series, parallel, feedback\n"
   ]
  },
  {
   "cell_type": "code",
   "execution_count": 23,
   "metadata": {
    "tags": []
   },
   "outputs": [
    {
     "name": "stdout",
     "output_type": "stream",
     "text": [
      "\n",
      "  1\n",
      "-----\n",
      "s + 1\n",
      "\n",
      "\n",
      "   s + 1\n",
      "-----------\n",
      "s^2 + s + 1\n",
      "\n"
     ]
    }
   ],
   "source": [
    "S1 = tf( [0, 1], [1, 1])\n",
    "S2 = tf( [1, 1], [1, 1, 1] )\n",
    "print(S1)\n",
    "print(S2)\n"
   ]
  },
  {
   "cell_type": "markdown",
   "metadata": {},
   "source": [
    "### 直列結合"
   ]
  },
  {
   "cell_type": "code",
   "execution_count": 24,
   "metadata": {
    "tags": []
   },
   "outputs": [
    {
     "name": "stdout",
     "output_type": "stream",
     "text": [
      "S= \n",
      "        s + 1\n",
      "---------------------\n",
      "s^3 + 2 s^2 + 2 s + 1\n",
      "\n",
      "S= \n",
      "        s + 1\n",
      "---------------------\n",
      "s^3 + 2 s^2 + 2 s + 1\n",
      "\n"
     ]
    }
   ],
   "source": [
    "S = S2 * S1\n",
    "print('S=', S)\n",
    "\n",
    "S = series(S1, S2)\n",
    "print('S=', S)\n"
   ]
  },
  {
   "cell_type": "markdown",
   "metadata": {},
   "source": [
    "分母分子の共通因子 s+1 が約分されません。\n",
    "\n",
    "この場合は，minreal を使います。minreal は不可制御，不可観測なモードの削除（最小実現）をするものです。"
   ]
  },
  {
   "cell_type": "code",
   "execution_count": 25,
   "metadata": {
    "tags": []
   },
   "outputs": [
    {
     "name": "stdout",
     "output_type": "stream",
     "text": [
      "S= \n",
      "     1\n",
      "-----------\n",
      "s^2 + s + 1\n",
      "\n"
     ]
    }
   ],
   "source": [
    "print('S=', S.minreal())\n"
   ]
  },
  {
   "cell_type": "markdown",
   "metadata": {},
   "source": [
    "あるいは，状態空間モデルに変換してから結合する"
   ]
  },
  {
   "cell_type": "code",
   "execution_count": 26,
   "metadata": {
    "tags": []
   },
   "outputs": [
    {
     "name": "stdout",
     "output_type": "stream",
     "text": [
      "\n",
      "     1\n",
      "-----------\n",
      "s^2 + s + 1\n",
      "\n",
      "\n",
      "     1\n",
      "-----------\n",
      "s^2 + s + 1\n",
      "\n"
     ]
    }
   ],
   "source": [
    "S1ss = ss(S1) # 状態空間モデルへの変換\n",
    "S2ss = ss(S2) # 状態空間モデルへの変換\n",
    "\n",
    "S = S1ss * S2ss\n",
    "print(tf(S))\n",
    "S = series(S1ss, S2ss)\n",
    "print(tf(S))\n"
   ]
  },
  {
   "cell_type": "markdown",
   "metadata": {},
   "source": [
    "### 並列結合"
   ]
  },
  {
   "cell_type": "code",
   "execution_count": 27,
   "metadata": {
    "tags": []
   },
   "outputs": [
    {
     "name": "stdout",
     "output_type": "stream",
     "text": [
      "S= \n",
      "   2 s^2 + 3 s + 2\n",
      "---------------------\n",
      "s^3 + 2 s^2 + 2 s + 1\n",
      "\n",
      "S= \n",
      "   2 s^2 + 3 s + 2\n",
      "---------------------\n",
      "s^3 + 2 s^2 + 2 s + 1\n",
      "\n"
     ]
    }
   ],
   "source": [
    "S = S1 + S2\n",
    "print('S=', S)\n",
    "S = parallel(S1, S2)\n",
    "print('S=', S)\n"
   ]
  },
  {
   "cell_type": "markdown",
   "metadata": {},
   "source": [
    "### フィードバック結合"
   ]
  },
  {
   "cell_type": "code",
   "execution_count": 28,
   "metadata": {},
   "outputs": [
    {
     "name": "stdout",
     "output_type": "stream",
     "text": [
      "S= \n",
      "    s^3 + 2 s^2 + 2 s + 1\n",
      "-----------------------------\n",
      "s^4 + 3 s^3 + 5 s^2 + 5 s + 2\n",
      "\n",
      "S= \n",
      "     s^2 + s + 1\n",
      "---------------------\n",
      "s^3 + 2 s^2 + 3 s + 2\n",
      "\n"
     ]
    }
   ],
   "source": [
    "S = S1 / (1 + S1*S2)\n",
    "print('S=', S)\n",
    "S = feedback(S1, S2)\n",
    "print('S=', S)\n"
   ]
  },
  {
   "cell_type": "code",
   "execution_count": 29,
   "metadata": {},
   "outputs": [
    {
     "name": "stdout",
     "output_type": "stream",
     "text": [
      "S= \n",
      "     s^2 + s + 1\n",
      "---------------------\n",
      "s^3 + 2 s^2 + 3 s + 2\n",
      "\n"
     ]
    }
   ],
   "source": [
    "print('S=', S.minreal())\n"
   ]
  },
  {
   "cell_type": "code",
   "execution_count": 30,
   "metadata": {
    "tags": []
   },
   "outputs": [
    {
     "name": "stdout",
     "output_type": "stream",
     "text": [
      "S= \n",
      "         s^4 + 3 s^3 + 4 s^2 + 3 s + 1\n",
      "-----------------------------------------------\n",
      "s^6 + 4 s^5 + 9 s^4 + 13 s^3 + 12 s^2 + 7 s + 2\n",
      "\n",
      "S= \n",
      "        s + 1\n",
      "---------------------\n",
      "s^3 + 2 s^2 + 3 s + 2\n",
      "\n"
     ]
    }
   ],
   "source": [
    "S = S1*S2 / (1 + S1*S2)\n",
    "print('S=', S)\n",
    "S = feedback(S1*S2, 1)\n",
    "print('S=', S)\n"
   ]
  },
  {
   "cell_type": "code",
   "execution_count": 31,
   "metadata": {
    "tags": []
   },
   "outputs": [
    {
     "name": "stdout",
     "output_type": "stream",
     "text": [
      "S= \n",
      "     1\n",
      "-----------\n",
      "s^2 + s + 2\n",
      "\n"
     ]
    }
   ],
   "source": [
    "print('S=', S.minreal())\n"
   ]
  },
  {
   "cell_type": "markdown",
   "metadata": {},
   "source": [
    "ポジティブフィードバックの場合"
   ]
  },
  {
   "cell_type": "code",
   "execution_count": 32,
   "metadata": {
    "tags": []
   },
   "outputs": [
    {
     "name": "stdout",
     "output_type": "stream",
     "text": [
      "\n",
      "   1\n",
      "-------\n",
      "s^2 + s\n",
      "\n"
     ]
    }
   ],
   "source": [
    "S = feedback(S1*S2, 1, sign = 1)\n",
    "print(S.minreal())\n"
   ]
  },
  {
   "cell_type": "markdown",
   "metadata": {},
   "source": [
    "### 練習問題"
   ]
  },
  {
   "cell_type": "code",
   "execution_count": 33,
   "metadata": {
    "tags": []
   },
   "outputs": [
    {
     "name": "stdout",
     "output_type": "stream",
     "text": [
      "S1= \n",
      "  1\n",
      "-----\n",
      "s + 1\n",
      "\n",
      "S2= \n",
      "  1\n",
      "-----\n",
      "s + 2\n",
      "\n",
      "S3= \n",
      "3 s + 1\n",
      "-------\n",
      "   s\n",
      "\n",
      "S4= \n",
      "2 s\n",
      "---\n",
      " 1\n",
      "\n",
      "S= \n",
      "  3 s^2 + 7 s + 2\n",
      "--------------------\n",
      "7 s^3 + 17 s^2 + 7 s\n",
      "\n"
     ]
    }
   ],
   "source": [
    "S1 = tf(1, [1, 1])\n",
    "S2 = tf(1, [1, 2])\n",
    "S3 = tf([3, 1], [1, 0])\n",
    "S4 = tf([2, 0], [0, 1])\n",
    "\n",
    "print('S1=', S1)\n",
    "print('S2=', S2)\n",
    "print('S3=', S3)\n",
    "print('S4=', S4)\n",
    "\n",
    "S12 = feedback(S1, S2)\n",
    "S123 = series(S12, S3)\n",
    "S = feedback(S123, S4)\n",
    "print('S=', S)\n"
   ]
  },
  {
   "cell_type": "markdown",
   "metadata": {},
   "source": [
    "## プロパー性"
   ]
  },
  {
   "cell_type": "code",
   "execution_count": 34,
   "metadata": {
    "tags": []
   },
   "outputs": [
    {
     "name": "stdout",
     "output_type": "stream",
     "text": [
      "\n",
      "1\n",
      "-\n",
      "1\n",
      "\n"
     ]
    }
   ],
   "source": [
    "from control.matlab import tf, tf2ss\n",
    "\n",
    "S1 = tf([1, 1], [0, 1])\n",
    "S2 = tf([0, 1], [1, 1])\n",
    "\n",
    "S = series(S1, S2)\n",
    "print(S.minreal())\n"
   ]
  },
  {
   "cell_type": "markdown",
   "metadata": {},
   "source": [
    "厳密にプロパー"
   ]
  },
  {
   "cell_type": "code",
   "execution_count": 35,
   "metadata": {
    "tags": []
   },
   "outputs": [
    {
     "name": "stdout",
     "output_type": "stream",
     "text": [
      "\n",
      "  1\n",
      "-----\n",
      "s + 1\n",
      "\n"
     ]
    },
    {
     "data": {
      "text/latex": [
       "$$\n",
       "\\left(\\begin{array}{rll|rll}\n",
       "-1\\phantom{.}&\\hspace{-1em}&\\hspace{-1em}\\phantom{\\cdot}&1\\phantom{.}&\\hspace{-1em}&\\hspace{-1em}\\phantom{\\cdot}\\\\\n",
       "\\hline\n",
       "1\\phantom{.}&\\hspace{-1em}&\\hspace{-1em}\\phantom{\\cdot}&0\\phantom{.}&\\hspace{-1em}&\\hspace{-1em}\\phantom{\\cdot}\\\\\n",
       "\\end{array}\\right)\n",
       "$$"
      ],
      "text/plain": [
       "StateSpace(array([[-1.]]), array([[1.]]), array([[1.]]), array([[0.]]))"
      ]
     },
     "execution_count": 35,
     "metadata": {},
     "output_type": "execute_result"
    }
   ],
   "source": [
    "print(S2)\n",
    "tf2ss(S2)\n"
   ]
  },
  {
   "cell_type": "markdown",
   "metadata": {},
   "source": [
    "インプロパー"
   ]
  },
  {
   "cell_type": "code",
   "execution_count": 36,
   "metadata": {
    "tags": []
   },
   "outputs": [
    {
     "name": "stdout",
     "output_type": "stream",
     "text": [
      "\n",
      "s + 1\n",
      "-----\n",
      "  1\n",
      "\n"
     ]
    }
   ],
   "source": [
    "print(S1)\n",
    "# tf2ss(S1) # 状態方程式に変換できない\n"
   ]
  },
  {
   "cell_type": "markdown",
   "metadata": {},
   "source": [
    "プロパー"
   ]
  },
  {
   "cell_type": "code",
   "execution_count": 37,
   "metadata": {},
   "outputs": [
    {
     "name": "stdout",
     "output_type": "stream",
     "text": [
      "\n",
      "s + 2\n",
      "-----\n",
      "s + 1\n",
      "\n"
     ]
    },
    {
     "data": {
      "text/latex": [
       "$$\n",
       "\\left(\\begin{array}{rll|rll}\n",
       "-1\\phantom{.}&\\hspace{-1em}&\\hspace{-1em}\\phantom{\\cdot}&1\\phantom{.}&\\hspace{-1em}&\\hspace{-1em}\\phantom{\\cdot}\\\\\n",
       "\\hline\n",
       "1\\phantom{.}&\\hspace{-1em}&\\hspace{-1em}\\phantom{\\cdot}&1\\phantom{.}&\\hspace{-1em}&\\hspace{-1em}\\phantom{\\cdot}\\\\\n",
       "\\end{array}\\right)\n",
       "$$"
      ],
      "text/plain": [
       "StateSpace(array([[-1.]]), array([[1.]]), array([[1.]]), array([[1.]]))"
      ]
     },
     "execution_count": 37,
     "metadata": {},
     "output_type": "execute_result"
    }
   ],
   "source": [
    "S3 = tf([1, 2], [1, 1])\n",
    "print(S3)\n",
    "tf2ss(S3)\n"
   ]
  },
  {
   "cell_type": "markdown",
   "metadata": {},
   "source": [
    "## ラプラス変換"
   ]
  },
  {
   "cell_type": "code",
   "execution_count": 38,
   "metadata": {
    "tags": []
   },
   "outputs": [],
   "source": [
    "import sympy as sp\n"
   ]
  },
  {
   "cell_type": "code",
   "execution_count": 39,
   "metadata": {
    "tags": []
   },
   "outputs": [
    {
     "data": {
      "image/png": "[encoded data removed]",
      "text/latex": [
       "$\\displaystyle \\left( \\frac{1}{s}, \\  0, \\  \\text{True}\\right)$"
      ],
      "text/plain": [
       "⎛1         ⎞\n",
       "⎜─, 0, True⎟\n",
       "⎝s         ⎠"
      ]
     },
     "execution_count": 39,
     "metadata": {},
     "output_type": "execute_result"
    }
   ],
   "source": [
    "s = sp.Symbol('s')\n",
    "t = sp.Symbol('t', positive=True)\n",
    "sp.init_printing()\n",
    "sp.laplace_transform(1, t, s)\n"
   ]
  },
  {
   "cell_type": "code",
   "execution_count": 40,
   "metadata": {
    "tags": []
   },
   "outputs": [
    {
     "data": {
      "image/png": "[encoded data removed]",
      "text/latex": [
       "$\\displaystyle \\left( \\frac{1}{s^{2}}, \\  0, \\  \\text{True}\\right)$"
      ],
      "text/plain": [
       "⎛1          ⎞\n",
       "⎜──, 0, True⎟\n",
       "⎜ 2         ⎟\n",
       "⎝s          ⎠"
      ]
     },
     "execution_count": 40,
     "metadata": {},
     "output_type": "execute_result"
    }
   ],
   "source": [
    "sp.laplace_transform(t, t, s)\n"
   ]
  },
  {
   "cell_type": "code",
   "execution_count": 41,
   "metadata": {
    "tags": []
   },
   "outputs": [
    {
     "data": {
      "image/png": "[encoded data removed]",
      "text/latex": [
       "$\\displaystyle \\left( \\frac{1}{a + s}, \\  - a, \\  \\text{True}\\right)$"
      ],
      "text/plain": [
       "⎛  1            ⎞\n",
       "⎜─────, -a, True⎟\n",
       "⎝a + s          ⎠"
      ]
     },
     "execution_count": 41,
     "metadata": {},
     "output_type": "execute_result"
    }
   ],
   "source": [
    "a = sp.Symbol('a', real=True)\n",
    "sp.laplace_transform(sp.exp(-a*t), t, s)\n"
   ]
  },
  {
   "cell_type": "code",
   "execution_count": 42,
   "metadata": {
    "tags": []
   },
   "outputs": [
    {
     "data": {
      "image/png": "[encoded data removed]",
      "text/latex": [
       "$\\displaystyle \\left( \\frac{w}{s^{2} + w^{2}}, \\  0, \\  \\text{True}\\right)$"
      ],
      "text/plain": [
       "⎛   w            ⎞\n",
       "⎜───────, 0, True⎟\n",
       "⎜ 2    2         ⎟\n",
       "⎝s  + w          ⎠"
      ]
     },
     "execution_count": 42,
     "metadata": {},
     "output_type": "execute_result"
    }
   ],
   "source": [
    "w = sp.Symbol('w', real=True)\n",
    "sp.laplace_transform(sp.sin(w*t), t, s)\n"
   ]
  },
  {
   "cell_type": "code",
   "execution_count": 43,
   "metadata": {
    "tags": []
   },
   "outputs": [
    {
     "data": {
      "image/png": "[encoded data removed]",
      "text/latex": [
       "$\\displaystyle \\left( \\frac{s}{s^{2} + w^{2}}, \\  0, \\  \\text{True}\\right)$"
      ],
      "text/plain": [
       "⎛   s            ⎞\n",
       "⎜───────, 0, True⎟\n",
       "⎜ 2    2         ⎟\n",
       "⎝s  + w          ⎠"
      ]
     },
     "execution_count": 43,
     "metadata": {},
     "output_type": "execute_result"
    }
   ],
   "source": [
    "sp.laplace_transform(sp.cos(w*t), t, s)\n"
   ]
  },
  {
   "cell_type": "code",
   "execution_count": 44,
   "metadata": {
    "tags": []
   },
   "outputs": [
    {
     "data": {
      "image/png": "[encoded data removed]",
      "text/latex": [
       "$\\displaystyle \\left( \\frac{w}{w^{2} + \\left(a + s\\right)^{2}}, \\  - a, \\  \\text{True}\\right)$"
      ],
      "text/plain": [
       "⎛      w                ⎞\n",
       "⎜─────────────, -a, True⎟\n",
       "⎜ 2          2          ⎟\n",
       "⎝w  + (a + s)           ⎠"
      ]
     },
     "execution_count": 44,
     "metadata": {},
     "output_type": "execute_result"
    }
   ],
   "source": [
    "sp.laplace_transform(sp.exp(-a*t)*sp.sin(w*t), t, s)\n"
   ]
  },
  {
   "cell_type": "code",
   "execution_count": 45,
   "metadata": {
    "tags": []
   },
   "outputs": [
    {
     "data": {
      "image/png": "[encoded data removed]",
      "text/latex": [
       "$\\displaystyle \\left( \\frac{a + s}{w^{2} + \\left(a + s\\right)^{2}}, \\  - a, \\  \\text{True}\\right)$"
      ],
      "text/plain": [
       "⎛    a + s              ⎞\n",
       "⎜─────────────, -a, True⎟\n",
       "⎜ 2          2          ⎟\n",
       "⎝w  + (a + s)           ⎠"
      ]
     },
     "execution_count": 45,
     "metadata": {},
     "output_type": "execute_result"
    }
   ],
   "source": [
    "sp.laplace_transform(sp.exp(-a*t)*sp.cos(w*t), t, s)\n"
   ]
  },
  {
   "cell_type": "markdown",
   "metadata": {
    "toc-hr-collapsed": true,
    "toc-nb-collapsed": true
   },
   "source": [
    "## 逆ラプラス変換"
   ]
  },
  {
   "cell_type": "code",
   "execution_count": 46,
   "metadata": {
    "tags": []
   },
   "outputs": [
    {
     "data": {
      "image/png": "[encoded data removed]",
      "text/latex": [
       "$\\displaystyle 1$"
      ],
      "text/plain": [
       "1"
      ]
     },
     "execution_count": 46,
     "metadata": {},
     "output_type": "execute_result"
    }
   ],
   "source": [
    "sp.inverse_laplace_transform(1/s, s, t)\n"
   ]
  },
  {
   "cell_type": "code",
   "execution_count": 47,
   "metadata": {
    "tags": []
   },
   "outputs": [
    {
     "data": {
      "image/png": "[encoded data removed]",
      "text/latex": [
       "$\\displaystyle t$"
      ],
      "text/plain": [
       "t"
      ]
     },
     "execution_count": 47,
     "metadata": {},
     "output_type": "execute_result"
    }
   ],
   "source": [
    "sp.inverse_laplace_transform(1/s**2, s, t)\n"
   ]
  },
  {
   "cell_type": "code",
   "execution_count": 48,
   "metadata": {
    "tags": []
   },
   "outputs": [
    {
     "data": {
      "image/png": "[encoded data removed]",
      "text/latex": [
       "$\\displaystyle e^{- a t}$"
      ],
      "text/plain": [
       " -a⋅t\n",
       "ℯ    "
      ]
     },
     "execution_count": 48,
     "metadata": {},
     "output_type": "execute_result"
    }
   ],
   "source": [
    "sp.inverse_laplace_transform(1/(s+a), s, t)\n"
   ]
  },
  {
   "cell_type": "code",
   "execution_count": 49,
   "metadata": {
    "tags": []
   },
   "outputs": [
    {
     "data": {
      "image/png": "[encoded data removed]",
      "text/latex": [
       "$\\displaystyle \\sin{\\left(t w \\right)}$"
      ],
      "text/plain": [
       "sin(t⋅w)"
      ]
     },
     "execution_count": 49,
     "metadata": {},
     "output_type": "execute_result"
    }
   ],
   "source": [
    "sp.inverse_laplace_transform(w/(s**2+w**2), s, t)\n"
   ]
  },
  {
   "cell_type": "code",
   "execution_count": 50,
   "metadata": {
    "tags": []
   },
   "outputs": [
    {
     "data": {
      "image/png": "[encoded data removed]",
      "text/latex": [
       "$\\displaystyle \\cos{\\left(t w \\right)}$"
      ],
      "text/plain": [
       "cos(t⋅w)"
      ]
     },
     "execution_count": 50,
     "metadata": {},
     "output_type": "execute_result"
    }
   ],
   "source": [
    "sp.inverse_laplace_transform(s/(s**2+w**2), s, t)\n"
   ]
  },
  {
   "cell_type": "code",
   "execution_count": 51,
   "metadata": {
    "tags": []
   },
   "outputs": [
    {
     "data": {
      "image/png": "[encoded data removed]",
      "text/latex": [
       "$\\displaystyle e^{- a t} \\sin{\\left(t w \\right)}$"
      ],
      "text/plain": [
       " -a⋅t         \n",
       "ℯ    ⋅sin(t⋅w)"
      ]
     },
     "execution_count": 51,
     "metadata": {},
     "output_type": "execute_result"
    }
   ],
   "source": [
    "sp.inverse_laplace_transform(w/((s+a)**2+w**2), s, t)\n"
   ]
  },
  {
   "cell_type": "code",
   "execution_count": 52,
   "metadata": {
    "tags": []
   },
   "outputs": [
    {
     "data": {
      "image/png": "[encoded data removed]",
      "text/latex": [
       "$\\displaystyle e^{- a t} \\cos{\\left(t w \\right)}$"
      ],
      "text/plain": [
       " -a⋅t         \n",
       "ℯ    ⋅cos(t⋅w)"
      ]
     },
     "execution_count": 52,
     "metadata": {},
     "output_type": "execute_result"
    }
   ],
   "source": [
    "sp.inverse_laplace_transform((s+a)/((s+a)**2+w**2), s, t)\n"
   ]
  },
  {
   "cell_type": "code",
   "execution_count": 53,
   "metadata": {
    "tags": []
   },
   "outputs": [
    {
     "data": {
      "image/png": "[encoded data removed]",
      "text/latex": [
       "$\\displaystyle 1$"
      ],
      "text/plain": [
       "1"
      ]
     },
     "execution_count": 53,
     "metadata": {},
     "output_type": "execute_result"
    }
   ],
   "source": [
    "sp.inverse_laplace_transform(1/s, s, t)\n"
   ]
  },
  {
   "cell_type": "code",
   "execution_count": 54,
   "metadata": {
    "tags": []
   },
   "outputs": [
    {
     "data": {
      "image/png": "[encoded data removed]",
      "text/latex": [
       "$\\displaystyle t$"
      ],
      "text/plain": [
       "t"
      ]
     },
     "execution_count": 54,
     "metadata": {},
     "output_type": "execute_result"
    }
   ],
   "source": [
    "sp.inverse_laplace_transform(1/s**2, s, t)\n"
   ]
  },
  {
   "cell_type": "code",
   "execution_count": 55,
   "metadata": {
    "tags": []
   },
   "outputs": [
    {
     "data": {
      "image/png": "[encoded data removed]",
      "text/latex": [
       "$\\displaystyle e^{- a t}$"
      ],
      "text/plain": [
       " -a⋅t\n",
       "ℯ    "
      ]
     },
     "execution_count": 55,
     "metadata": {},
     "output_type": "execute_result"
    }
   ],
   "source": [
    "sp.inverse_laplace_transform(1/(s+a), s, t)\n"
   ]
  },
  {
   "cell_type": "code",
   "execution_count": 56,
   "metadata": {
    "tags": []
   },
   "outputs": [
    {
     "data": {
      "image/png": "[encoded data removed]",
      "text/latex": [
       "$\\displaystyle \\sin{\\left(t w \\right)}$"
      ],
      "text/plain": [
       "sin(t⋅w)"
      ]
     },
     "execution_count": 56,
     "metadata": {},
     "output_type": "execute_result"
    }
   ],
   "source": [
    "sp.inverse_laplace_transform(w/(s**2+w**2), s, t)\n"
   ]
  },
  {
   "cell_type": "code",
   "execution_count": 57,
   "metadata": {
    "tags": []
   },
   "outputs": [
    {
     "data": {
      "image/png": "[encoded data removed]",
      "text/latex": [
       "$\\displaystyle \\cos{\\left(t w \\right)}$"
      ],
      "text/plain": [
       "cos(t⋅w)"
      ]
     },
     "execution_count": 57,
     "metadata": {},
     "output_type": "execute_result"
    }
   ],
   "source": [
    "sp.inverse_laplace_transform(s/(s**2+w**2), s, t)\n"
   ]
  },
  {
   "cell_type": "code",
   "execution_count": 58,
   "metadata": {
    "tags": []
   },
   "outputs": [
    {
     "data": {
      "image/png": "[encoded data removed]",
      "text/latex": [
       "$\\displaystyle e^{- a t} \\sin{\\left(t w \\right)}$"
      ],
      "text/plain": [
       " -a⋅t         \n",
       "ℯ    ⋅sin(t⋅w)"
      ]
     },
     "execution_count": 58,
     "metadata": {},
     "output_type": "execute_result"
    }
   ],
   "source": [
    "sp.inverse_laplace_transform(w/((s+a)**2+w**2), s, t)\n"
   ]
  },
  {
   "cell_type": "code",
   "execution_count": 59,
   "metadata": {
    "tags": []
   },
   "outputs": [
    {
     "data": {
      "image/png": "[encoded data removed]",
      "text/latex": [
       "$\\displaystyle e^{- a t} \\cos{\\left(t w \\right)}$"
      ],
      "text/plain": [
       " -a⋅t         \n",
       "ℯ    ⋅cos(t⋅w)"
      ]
     },
     "execution_count": 59,
     "metadata": {},
     "output_type": "execute_result"
    }
   ],
   "source": [
    "sp.inverse_laplace_transform((s+a)/((s+a)**2+w**2), s, t)\n"
   ]
  }
 ],
 "metadata": {
  "kernelspec": {
   "display_name": "Python 3 (ipykernel)",
   "language": "python",
   "name": "python3"
  },
  "language_info": {
   "codemirror_mode": {
    "name": "ipython",
    "version": 3
   },
   "file_extension": ".py",
   "mimetype": "text/x-python",
   "name": "python",
   "nbconvert_exporter": "python",
   "pygments_lexer": "ipython3",
   "version": "3.11.3"
  }
 },
 "nbformat": 4,
 "nbformat_minor": 4
}
